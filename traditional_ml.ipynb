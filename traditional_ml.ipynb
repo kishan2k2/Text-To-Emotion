{
 "cells": [
  {
   "cell_type": "markdown",
   "metadata": {
    "id": "clGniimsIkBw"
   },
   "source": [
    "# Emotion Classification in Texts using Scikit-learn \n",
    "\n",
    "Classifying short messages into five emotion categories. We will prepare our dataset (nltk and regular expressions) and vectorize words using TF-IDF (term frequency-inverse document frequency) metric. Later we will use classifiers provided by scikit-learn and classify sentences into five emotion categories: joy, sadness, anger, fear, and neutral.\n",
    "\n",
    "### Workflow \n",
    "* Importing Dataset\n",
    "* Text Preprocessing\n",
    "* Text Representation\n",
    "* Classifiers: Naive Bayes, Linear Regression, Random Rorrrest, SVM\n",
    "* Evaluation: F1 scores and Confussion Matrix\n",
    "* Saving the Model\n"
   ]
  },
  {
   "cell_type": "code",
   "execution_count": 1,
   "metadata": {
    "ExecuteTime": {
     "end_time": "2023-09-18T23:53:19.173040800Z",
     "start_time": "2023-09-18T23:53:16.650175200Z"
    },
    "executionInfo": {
     "elapsed": 665,
     "status": "ok",
     "timestamp": 1622203529087,
     "user": {
      "displayName": "Nikhil Mandale",
      "photoUrl": "https://lh3.googleusercontent.com/-yq5OVhKRay4/AAAAAAAAAAI/AAAAAAAAGqk/hQsagpkMK04/s64/photo.jpg",
      "userId": "02574160308645723563"
     },
     "user_tz": -330
    },
    "id": "PLFRcr_vIkBy"
   },
   "outputs": [],
   "source": [
    "import pandas as pd\n",
    "import numpy as np\n",
    "\n",
    "# text preprocessing\n",
    "from nltk import word_tokenize\n",
    "from nltk.stem import PorterStemmer\n",
    "from nltk.corpus import stopwords\n",
    "import re\n",
    "\n",
    "# plots and metrics\n",
    "import matplotlib.pyplot as plt\n",
    "from sklearn.metrics import accuracy_score, f1_score, confusion_matrix\n",
    "\n",
    "# feature extraction / vectorization\n",
    "from sklearn.feature_extraction.text import CountVectorizer, TfidfVectorizer\n",
    "\n",
    "# classifiers\n",
    "from sklearn.naive_bayes import MultinomialNB\n",
    "from sklearn.linear_model import LogisticRegression, SGDClassifier\n",
    "from sklearn.ensemble import RandomForestClassifier\n",
    "from sklearn.svm import LinearSVC\n",
    "from sklearn.pipeline import Pipeline\n",
    "\n",
    "# save and load a file\n",
    "import pickle"
   ]
  },
  {
   "cell_type": "markdown",
   "metadata": {
    "id": "QJ7B1hzxIkBz"
   },
   "source": [
    "## 1. Import Dataset\n",
    "\n",
    "Text-Emotion Dataset was split into training 70% and testing 30%\n"
   ]
  },
  {
   "cell_type": "code",
   "execution_count": 2,
   "metadata": {
    "ExecuteTime": {
     "end_time": "2023-09-18T23:53:25.600451800Z",
     "start_time": "2023-09-18T23:53:25.475475300Z"
    },
    "colab": {
     "base_uri": "https://localhost:8080/",
     "height": 330
    },
    "executionInfo": {
     "elapsed": 2394,
     "status": "ok",
     "timestamp": 1622203626820,
     "user": {
      "displayName": "Nikhil Mandale",
      "photoUrl": "https://lh3.googleusercontent.com/-yq5OVhKRay4/AAAAAAAAAAI/AAAAAAAAGqk/hQsagpkMK04/s64/photo.jpg",
      "userId": "02574160308645723563"
     },
     "user_tz": -330
    },
    "id": "Xy_tuRoTIkB0",
    "outputId": "15b7fc02-2382-45b0-c949-e29ecc32f46f"
   },
   "outputs": [
    {
     "name": "stdout",
     "output_type": "stream",
     "text": [
      "size of training set: 3393\n",
      "size of validation set: 3393\n",
      "Emotion\n",
      "joy        1414\n",
      "anger      1386\n",
      "fear       1358\n",
      "sadness    1352\n",
      "neutral    1276\n",
      "Name: count, dtype: int64\n"
     ]
    },
    {
     "data": {
      "text/html": [
       "<div>\n",
       "<style scoped>\n",
       "    .dataframe tbody tr th:only-of-type {\n",
       "        vertical-align: middle;\n",
       "    }\n",
       "\n",
       "    .dataframe tbody tr th {\n",
       "        vertical-align: top;\n",
       "    }\n",
       "\n",
       "    .dataframe thead th {\n",
       "        text-align: right;\n",
       "    }\n",
       "</style>\n",
       "<table border=\"1\" class=\"dataframe\">\n",
       "  <thead>\n",
       "    <tr style=\"text-align: right;\">\n",
       "      <th></th>\n",
       "      <th>Emotion</th>\n",
       "      <th>Text</th>\n",
       "    </tr>\n",
       "  </thead>\n",
       "  <tbody>\n",
       "    <tr>\n",
       "      <th>0</th>\n",
       "      <td>sadness</td>\n",
       "      <td>I experienced this emotion when my grandfather...</td>\n",
       "    </tr>\n",
       "    <tr>\n",
       "      <th>1</th>\n",
       "      <td>neutral</td>\n",
       "      <td>when I first moved in , I walked everywhere ....</td>\n",
       "    </tr>\n",
       "    <tr>\n",
       "      <th>2</th>\n",
       "      <td>anger</td>\n",
       "      <td>` Oh ! \" she bleated , her voice high and rath...</td>\n",
       "    </tr>\n",
       "    <tr>\n",
       "      <th>3</th>\n",
       "      <td>fear</td>\n",
       "      <td>However , does the right hon. Gentleman recogn...</td>\n",
       "    </tr>\n",
       "    <tr>\n",
       "      <th>4</th>\n",
       "      <td>sadness</td>\n",
       "      <td>My boyfriend didn't turn up after promising th...</td>\n",
       "    </tr>\n",
       "  </tbody>\n",
       "</table>\n",
       "</div>"
      ],
      "text/plain": [
       "   Emotion                                               Text\n",
       "0  sadness  I experienced this emotion when my grandfather...\n",
       "1  neutral   when I first moved in , I walked everywhere ....\n",
       "2    anger  ` Oh ! \" she bleated , her voice high and rath...\n",
       "3     fear  However , does the right hon. Gentleman recogn...\n",
       "4  sadness  My boyfriend didn't turn up after promising th..."
      ]
     },
     "execution_count": 2,
     "metadata": {},
     "output_type": "execute_result"
    }
   ],
   "source": [
    "df_train = pd.read_csv('data\\data_test.csv', encoding='utf-8')\n",
    "df_test = pd.read_csv('data\\data_test.csv', encoding='utf-8')\n",
    "\n",
    "\n",
    "X_train = df_train.Text\n",
    "X_test = df_test.Text\n",
    "\n",
    "y_train = df_train.Emotion\n",
    "y_test = df_test.Emotion\n",
    "\n",
    "class_names = ['joy', 'sadness', 'anger', 'neutral', 'fear']\n",
    "data = pd.concat([df_train, df_test])\n",
    "\n",
    "print('size of training set: %s' % (len(df_train['Text'])))\n",
    "print('size of validation set: %s' % (len(df_test['Text'])))\n",
    "print(data.Emotion.value_counts())\n",
    "\n",
    "data.head()"
   ]
  },
  {
   "cell_type": "markdown",
   "metadata": {
    "id": "D7Hjy1X1IkB1"
   },
   "source": [
    "### *Plotting confusion matrix for later evaluation "
   ]
  },
  {
   "cell_type": "code",
   "execution_count": 3,
   "metadata": {
    "ExecuteTime": {
     "end_time": "2023-09-18T23:53:29.842710300Z",
     "start_time": "2023-09-18T23:53:29.827090500Z"
    },
    "executionInfo": {
     "elapsed": 683,
     "status": "ok",
     "timestamp": 1622203639074,
     "user": {
      "displayName": "Nikhil Mandale",
      "photoUrl": "https://lh3.googleusercontent.com/-yq5OVhKRay4/AAAAAAAAAAI/AAAAAAAAGqk/hQsagpkMK04/s64/photo.jpg",
      "userId": "02574160308645723563"
     },
     "user_tz": -330
    },
    "id": "BW0CyH3GIkB2"
   },
   "outputs": [],
   "source": [
    "def plot_confusion_matrix(y_true, y_pred, classes,\n",
    "                          normalize=False,\n",
    "                          title=None,\n",
    "                          cmap=plt.cm.Blues):\n",
    "    '''\n",
    "    This function prints and plots the confusion matrix.\n",
    "    Normalization can be applied by setting `normalize=True`.\n",
    "    '''\n",
    "    if not title:\n",
    "        if normalize:\n",
    "            title = 'Normalized confusion matrix'\n",
    "        else:\n",
    "            title = 'Confusion matrix, without normalization'\n",
    "\n",
    "    # Compute confusion matrix\n",
    "    cm = confusion_matrix(y_true, y_pred)\n",
    "\n",
    "    if normalize:\n",
    "        cm = cm.astype('float') / cm.sum(axis=1)[:, np.newaxis]\n",
    "\n",
    "    fig, ax = plt.subplots()\n",
    "    \n",
    "    # Set size\n",
    "    fig.set_size_inches(12.5, 7.5)\n",
    "    im = ax.imshow(cm, interpolation='nearest', cmap=cmap)\n",
    "    ax.figure.colorbar(im, ax=ax)\n",
    "    ax.grid(False)\n",
    "    \n",
    "    # We want to show all ticks...\n",
    "    ax.set(xticks=np.arange(cm.shape[1]),\n",
    "           yticks=np.arange(cm.shape[0]),\n",
    "           # ... and label them with the respective list entries\n",
    "           xticklabels=classes, yticklabels=classes,\n",
    "           title=title,\n",
    "           ylabel='True label',\n",
    "           xlabel='Predicted label')\n",
    "\n",
    "    # Rotate the tick labels and set their alignment.\n",
    "    plt.setp(ax.get_xticklabels(), rotation=45, ha=\"right\",\n",
    "             rotation_mode=\"anchor\")\n",
    "\n",
    "    # Loop over data dimensions and create text annotations.\n",
    "    fmt = '.2f' if normalize else 'd'\n",
    "    thresh = cm.max() / 2.\n",
    "    for i in range(cm.shape[0]):\n",
    "        for j in range(cm.shape[1]):\n",
    "            ax.text(j, i, format(cm[i, j], fmt),\n",
    "                    ha=\"center\", va=\"center\",\n",
    "                    color=\"white\" if cm[i, j] > thresh else \"black\")\n",
    "    fig.tight_layout()\n",
    "    return ax"
   ]
  },
  {
   "cell_type": "markdown",
   "metadata": {
    "id": "LJ81xw-VIkB3"
   },
   "source": [
    "## 2. Text Preprocessing\n",
    "\n",
    "Here are some preprocessing steps to consider:\n",
    "* Removing noise: html markups, urls, non-ascii symbols, trailing whitespace etc.\n",
    "* Removing punctuation\n",
    "* Normalizing emoticons\n",
    "* Negation handling\n",
    "* Tokenization: split text into word tokens\n",
    "* Stopword removal\n",
    "* Stemming or lemmatization\n",
    "\n",
    "However, most of these steps did not improve our classification results. Since our data was mostly taken from written dialogs it was almost ready to use."
   ]
  },
  {
   "cell_type": "code",
   "execution_count": 4,
   "metadata": {
    "ExecuteTime": {
     "end_time": "2023-09-18T23:53:31.328489700Z",
     "start_time": "2023-09-18T23:53:31.312819200Z"
    },
    "executionInfo": {
     "elapsed": 1313,
     "status": "ok",
     "timestamp": 1622203642614,
     "user": {
      "displayName": "Nikhil Mandale",
      "photoUrl": "https://lh3.googleusercontent.com/-yq5OVhKRay4/AAAAAAAAAAI/AAAAAAAAGqk/hQsagpkMK04/s64/photo.jpg",
      "userId": "02574160308645723563"
     },
     "user_tz": -330
    },
    "id": "sqqaK5bYIkB3"
   },
   "outputs": [],
   "source": [
    "def preprocess_and_tokenize(data):    \n",
    "\n",
    "    #remove html markup\n",
    "    data = re.sub(\"(<.*?>)\", \"\", data)\n",
    "\n",
    "    #remove urls\n",
    "    data = re.sub(r'http\\S+', '', data)\n",
    "    \n",
    "    #remove hashtags and @names\n",
    "    data= re.sub(r\"(#[\\d\\w\\.]+)\", '', data)\n",
    "    data= re.sub(r\"(@[\\d\\w\\.]+)\", '', data)\n",
    "\n",
    "    #remove punctuation and non-ascii digits\n",
    "    data = re.sub(\"(\\\\W|\\\\d)\", \" \", data)\n",
    "    \n",
    "    #remove whitespace\n",
    "    data = data.strip()\n",
    "    \n",
    "    # tokenization with nltk\n",
    "    data = word_tokenize(data)\n",
    "    \n",
    "    # stemming with nltk\n",
    "    porter = PorterStemmer()\n",
    "    stem_data = [porter.stem(word) for word in data]\n",
    "        \n",
    "    return str(stem_data)"
   ]
  },
  {
   "cell_type": "markdown",
   "metadata": {
    "id": "STSAgOPLIkB4"
   },
   "source": [
    "## 3. Text Representation\n",
    "\n",
    "Vectorizing text using Term Frequency technique (Term Frequency(TF) — Inverse Dense Frequency(IDF))\n",
    "* Tekenize with our preprocess_and_tokenize\n",
    "* Find it’s TF = (Number of repetitions of word in a document) / (# of words in a document)\n",
    "* IDF = log(# of documents / # of documents containing the word)"
   ]
  },
  {
   "cell_type": "code",
   "execution_count": 5,
   "metadata": {
    "ExecuteTime": {
     "end_time": "2023-09-18T23:53:33.210018200Z",
     "start_time": "2023-09-18T23:53:32.955853900Z"
    },
    "colab": {
     "base_uri": "https://localhost:8080/"
    },
    "executionInfo": {
     "elapsed": 887,
     "status": "ok",
     "timestamp": 1622203682066,
     "user": {
      "displayName": "Nikhil Mandale",
      "photoUrl": "https://lh3.googleusercontent.com/-yq5OVhKRay4/AAAAAAAAAAI/AAAAAAAAGqk/hQsagpkMK04/s64/photo.jpg",
      "userId": "02574160308645723563"
     },
     "user_tz": -330
    },
    "id": "cv7UzGlF37rW",
    "outputId": "98b5372a-4422-4e31-e524-9adbc41a5565"
   },
   "outputs": [
    {
     "name": "stderr",
     "output_type": "stream",
     "text": [
      "[nltk_data] Error loading punkt: <urlopen error [WinError 10060] A\n",
      "[nltk_data]     connection attempt failed because the connected party\n",
      "[nltk_data]     did not properly respond after a period of time, or\n",
      "[nltk_data]     established connection failed because connected host\n",
      "[nltk_data]     has failed to respond>\n"
     ]
    },
    {
     "data": {
      "text/plain": [
       "False"
      ]
     },
     "execution_count": 5,
     "metadata": {},
     "output_type": "execute_result"
    }
   ],
   "source": [
    "import nltk\n",
    "nltk.download('punkt')"
   ]
  },
  {
   "cell_type": "code",
   "execution_count": 6,
   "metadata": {
    "ExecuteTime": {
     "end_time": "2023-09-18T23:53:39.910389Z",
     "start_time": "2023-09-18T23:53:34.087322400Z"
    },
    "executionInfo": {
     "elapsed": 11429,
     "status": "ok",
     "timestamp": 1622203697198,
     "user": {
      "displayName": "Nikhil Mandale",
      "photoUrl": "https://lh3.googleusercontent.com/-yq5OVhKRay4/AAAAAAAAAAI/AAAAAAAAGqk/hQsagpkMK04/s64/photo.jpg",
      "userId": "02574160308645723563"
     },
     "user_tz": -330
    },
    "id": "99UqdHwjIkB5"
   },
   "outputs": [
    {
     "name": "stderr",
     "output_type": "stream",
     "text": [
      "C:\\Users\\HP\\AppData\\Roaming\\Python\\Python311\\site-packages\\sklearn\\feature_extraction\\text.py:525: UserWarning: The parameter 'token_pattern' will not be used since 'tokenizer' is not None'\n",
      "  warnings.warn(\n"
     ]
    }
   ],
   "source": [
    "# TFIDF, unigrams and bigrams\n",
    "vect = TfidfVectorizer(tokenizer=preprocess_and_tokenize, sublinear_tf=True, norm='l2', ngram_range=(1, 2))\n",
    "\n",
    "# fit on our complete corpus\n",
    "vect.fit_transform(data.Text)\n",
    "\n",
    "# transform testing and training datasets to vectors\n",
    "X_train_vect = vect.transform(X_train)\n",
    "X_test_vect = vect.transform(X_test)"
   ]
  },
  {
   "cell_type": "markdown",
   "metadata": {
    "id": "pJBKCffmIkB5"
   },
   "source": [
    "## 4. Classifiers\n",
    "\n",
    "###  Naive Bayes"
   ]
  },
  {
   "cell_type": "code",
   "execution_count": 9,
   "metadata": {
    "ExecuteTime": {
     "end_time": "2023-09-18T23:53:41.110183800Z",
     "start_time": "2023-09-18T23:53:40.719670Z"
    },
    "colab": {
     "base_uri": "https://localhost:8080/",
     "height": 717
    },
    "executionInfo": {
     "elapsed": 782,
     "status": "ok",
     "timestamp": 1622203702227,
     "user": {
      "displayName": "Nikhil Mandale",
      "photoUrl": "https://lh3.googleusercontent.com/-yq5OVhKRay4/AAAAAAAAAAI/AAAAAAAAGqk/hQsagpkMK04/s64/photo.jpg",
      "userId": "02574160308645723563"
     },
     "user_tz": -330
    },
    "id": "K-hzidQ-IkB6",
    "outputId": "0fe5f6fc-85a9-42a3-b405-8a901e032fc5"
   },
   "outputs": [
    {
     "name": "stdout",
     "output_type": "stream",
     "text": [
      "Accuracy: 58.38%\n",
      "\n",
      "F1 Score: 58.38\n",
      "\n",
      "COnfusion Matrix:\n",
      " [[383  79  80  50 101]\n",
      " [109 376  94  18  82]\n",
      " [ 70  74 406  84  73]\n",
      " [ 54  40  60 439  45]\n",
      " [ 98  71  93  37 377]]\n"
     ]
    },
    {
     "data": {
      "image/png": "[encoded data removed]",
      "text/plain": [
       "<Figure size 900x540 with 2 Axes>"
      ]
     },
     "metadata": {
      "needs_background": "light"
     },
     "output_type": "display_data"
    }
   ],
   "source": [
    "nb = MultinomialNB()\n",
    "\n",
    "nb.fit(X_train_vect, y_train)\n",
    "\n",
    "ynb_pred = nb.predict(X_test_vect)\n",
    "\n",
    "from sklearn.metrics import accuracy_score, f1_score, confusion_matrix\n",
    "\n",
    "print(\"Accuracy: {:.2f}%\".format(accuracy_score(y_test, ynb_pred) * 100))\n",
    "print(\"\\nF1 Score: {:.2f}\".format(f1_score(y_test, ynb_pred, average='micro') * 100))\n",
    "print(\"\\nCOnfusion Matrix:\\n\", confusion_matrix(y_test, ynb_pred))\n",
    "\n",
    "# Plot normalized confusion matrix\n",
    "plot_confusion_matrix(y_test, ynb_pred, classes=class_names, normalize=True, title='Normalized confusion matrix')\n",
    "plt.show()"
   ]
  },
  {
   "cell_type": "markdown",
   "metadata": {
    "id": "BIY67nX1IkB6"
   },
   "source": [
    "###  Random Forrest"
   ]
  },
  {
   "cell_type": "code",
   "execution_count": 8,
   "metadata": {
    "ExecuteTime": {
     "end_time": "2023-09-18T17:06:34.695018700Z",
     "start_time": "2023-09-18T17:06:31.948617700Z"
    },
    "colab": {
     "base_uri": "https://localhost:8080/",
     "height": 717
    },
    "executionInfo": {
     "elapsed": 27097,
     "status": "ok",
     "timestamp": 1622203733358,
     "user": {
      "displayName": "Nikhil Mandale",
      "photoUrl": "https://lh3.googleusercontent.com/-yq5OVhKRay4/AAAAAAAAAAI/AAAAAAAAGqk/hQsagpkMK04/s64/photo.jpg",
      "userId": "02574160308645723563"
     },
     "user_tz": -330
    },
    "id": "HT4p26u0IkB7",
    "outputId": "fda12f27-81b6-4406-9a3b-8026bcc02548"
   },
   "outputs": [
    {
     "name": "stdout",
     "output_type": "stream",
     "text": [
      "Accuracy: 99.47%\n",
      "\n",
      "F1 Score: 99.47\n",
      "\n",
      "COnfusion Matrix:\n",
      " [[692   0   0   1   0]\n",
      " [  0 679   0   0   0]\n",
      " [  0   0 695  12   0]\n",
      " [  0   0   0 637   1]\n",
      " [  1   0   0   3 672]]\n"
     ]
    },
    {
     "data": {
      "image/png": "[encoded data removed]",
      "text/plain": [
       "<Figure size 1250x750 with 2 Axes>"
      ]
     },
     "metadata": {},
     "output_type": "display_data"
    }
   ],
   "source": [
    "rf = RandomForestClassifier(n_estimators=50)\n",
    "rf.fit(X_train_vect, y_train)\n",
    "\n",
    "yrf_pred = rf.predict(X_test_vect)\n",
    "\n",
    "print(\"Accuracy: {:.2f}%\".format(accuracy_score(y_test, yrf_pred) * 100))\n",
    "print(\"\\nF1 Score: {:.2f}\".format(f1_score(y_test, yrf_pred, average='micro') * 100))\n",
    "print(\"\\nCOnfusion Matrix:\\n\", confusion_matrix(y_test, yrf_pred))\n",
    "\n",
    "plot_confusion_matrix(y_test, yrf_pred, classes=class_names, normalize=True, title='Normalized confusion matrix')\n",
    "plt.show()"
   ]
  },
  {
   "cell_type": "code",
   "execution_count": 9,
   "metadata": {},
   "outputs": [],
   "source": [
    "svm_model = Pipeline([\n",
    "    ('tfidf', vect),\n",
    "    ('rf', rf),\n",
    "])"
   ]
  },
  {
   "cell_type": "code",
   "execution_count": 10,
   "metadata": {},
   "outputs": [],
   "source": [
    "# save the model\n",
    "filename = 'M:\\\\Third Year\\\\Projects\\\\SIH\\\\Codes\\\\nlp-text-emotion-master\\\\Final_Models\\\\tfidf_rf.sav'\n",
    "pickle.dump(svm_model, open(filename, 'wb'))"
   ]
  },
  {
   "cell_type": "markdown",
   "metadata": {
    "id": "BS4A0MvlIkB8"
   },
   "source": [
    "###  Logistic Regression"
   ]
  },
  {
   "cell_type": "code",
   "execution_count": 12,
   "metadata": {
    "ExecuteTime": {
     "end_time": "2023-09-18T17:38:00.814899800Z",
     "start_time": "2023-09-18T17:37:58.035813100Z"
    },
    "colab": {
     "base_uri": "https://localhost:8080/",
     "height": 717
    },
    "executionInfo": {
     "elapsed": 14673,
     "status": "ok",
     "timestamp": 1622203759330,
     "user": {
      "displayName": "Nikhil Mandale",
      "photoUrl": "https://lh3.googleusercontent.com/-yq5OVhKRay4/AAAAAAAAAAI/AAAAAAAAGqk/hQsagpkMK04/s64/photo.jpg",
      "userId": "02574160308645723563"
     },
     "user_tz": -330
    },
    "id": "08oqpeZcIkB8",
    "outputId": "f9401118-6a82-4d68-8efe-c7de7fc6ebef"
   },
   "outputs": [
    {
     "name": "stdout",
     "output_type": "stream",
     "text": [
      "Accuracy: 63.28%\n",
      "\n",
      "F1 Score: 63.28\n",
      "\n",
      "COnfusion Matrix:\n",
      " [[402 102  68  36  85]\n",
      " [ 94 421  74  13  77]\n",
      " [ 58  78 451  57  63]\n",
      " [ 42  41  59 467  29]\n",
      " [ 86  77  86  21 406]]\n"
     ]
    },
    {
     "data": {
      "image/png": "[encoded data removed]",
      "text/plain": [
       "<Figure size 900x540 with 2 Axes>"
      ]
     },
     "metadata": {
      "needs_background": "light"
     },
     "output_type": "display_data"
    }
   ],
   "source": [
    "log = LogisticRegression(solver='lbfgs', multi_class='auto', max_iter=200)\n",
    "log.fit(X_train_vect, y_train)\n",
    "\n",
    "ylog_pred = log.predict(X_test_vect)\n",
    "\n",
    "print(\"Accuracy: {:.2f}%\".format(accuracy_score(y_test, ylog_pred) * 100))\n",
    "print(\"\\nF1 Score: {:.2f}\".format(f1_score(y_test, ylog_pred, average='micro') * 100))\n",
    "print(\"\\nCOnfusion Matrix:\\n\", confusion_matrix(y_test, ylog_pred))\n",
    "\n",
    "plot_confusion_matrix(y_test, ylog_pred, classes=class_names, normalize=True, title='Normalized confusion matrix')\n",
    "plt.show()"
   ]
  },
  {
   "cell_type": "markdown",
   "metadata": {
    "id": "OLgV6je8IkB9"
   },
   "source": [
    "###  Linear Support Vector"
   ]
  },
  {
   "cell_type": "code",
   "execution_count": 14,
   "metadata": {
    "ExecuteTime": {
     "end_time": "2023-09-18T23:53:52.339530300Z",
     "start_time": "2023-09-18T23:53:51.808869600Z"
    },
    "colab": {
     "base_uri": "https://localhost:8080/",
     "height": 717
    },
    "executionInfo": {
     "elapsed": 1185,
     "status": "ok",
     "timestamp": 1622203763336,
     "user": {
      "displayName": "Nikhil Mandale",
      "photoUrl": "https://lh3.googleusercontent.com/-yq5OVhKRay4/AAAAAAAAAAI/AAAAAAAAGqk/hQsagpkMK04/s64/photo.jpg",
      "userId": "02574160308645723563"
     },
     "user_tz": -330
    },
    "id": "F3SjR4zWIkB9",
    "outputId": "8e8a4581-ceef-4cf2-dd53-9a54cd7e4d49"
   },
   "outputs": [
    {
     "name": "stdout",
     "output_type": "stream",
     "text": [
      "Accuracy: 70.56%\n",
      "\n",
      "F1 Score: 70.56\n",
      "\n",
      "COnfusion Matrix:\n",
      " [[441  88  63  28  73]\n",
      " [ 63 497  55  10  54]\n",
      " [ 53  61 496  43  54]\n",
      " [ 27  28  51 505  27]\n",
      " [ 67  61  70  23 455]]\n"
     ]
    },
    {
     "data": {
      "image/png": "[encoded data removed]",
      "text/plain": [
       "<Figure size 900x540 with 2 Axes>"
      ]
     },
     "metadata": {
      "needs_background": "light"
     },
     "output_type": "display_data"
    }
   ],
   "source": [
    "svc = LinearSVC(tol=1e-05)\n",
    "svc.fit(X_train_vect, y_train)\n",
    "\n",
    "ysvm_pred = svc.predict(X_test_vect)\n",
    "\n",
    "print(\"Accuracy: {:.2f}%\".format(accuracy_score(y_test, ysvm_pred) * 100))\n",
    "print(\"\\nF1 Score: {:.2f}\".format(f1_score(y_test, ysvm_pred, average='micro') * 100))\n",
    "print(\"\\nCOnfusion Matrix:\\n\", confusion_matrix(y_test, ysvm_pred))\n",
    "\n",
    "plot_confusion_matrix(y_test, ysvm_pred, classes=class_names, normalize=True, title='Normalized confusion matrix')\n",
    "plt.show()"
   ]
  },
  {
   "cell_type": "markdown",
   "metadata": {
    "id": "uhjcHR8fIkB-"
   },
   "source": [
    "## 4. Saving the tf-idf + SVM Model \n"
   ]
  },
  {
   "cell_type": "code",
   "execution_count": 15,
   "metadata": {
    "ExecuteTime": {
     "end_time": "2023-09-18T23:53:54.874417500Z",
     "start_time": "2023-09-18T23:53:54.843140300Z"
    },
    "executionInfo": {
     "elapsed": 583,
     "status": "ok",
     "timestamp": 1622203771059,
     "user": {
      "displayName": "Nikhil Mandale",
      "photoUrl": "https://lh3.googleusercontent.com/-yq5OVhKRay4/AAAAAAAAAAI/AAAAAAAAGqk/hQsagpkMK04/s64/photo.jpg",
      "userId": "02574160308645723563"
     },
     "user_tz": -330
    },
    "id": "NwruWJpcIkB_"
   },
   "outputs": [],
   "source": [
    "#Create pipeline with our tf-idf vectorizer and LinearSVC model\n",
    "svm_model = Pipeline([\n",
    "    ('tfidf', vect),\n",
    "    ('clf', svc),\n",
    "])"
   ]
  },
  {
   "cell_type": "code",
   "execution_count": 16,
   "metadata": {
    "ExecuteTime": {
     "end_time": "2023-09-18T23:53:56.315791300Z",
     "start_time": "2023-09-18T23:53:55.470153Z"
    },
    "executionInfo": {
     "elapsed": 1508,
     "status": "ok",
     "timestamp": 1622203825436,
     "user": {
      "displayName": "Nikhil Mandale",
      "photoUrl": "https://lh3.googleusercontent.com/-yq5OVhKRay4/AAAAAAAAAAI/AAAAAAAAGqk/hQsagpkMK04/s64/photo.jpg",
      "userId": "02574160308645723563"
     },
     "user_tz": -330
    },
    "id": "qjLDtweUIkB_"
   },
   "outputs": [],
   "source": [
    "# save the model\n",
    "filename = 'M:\\\\Third Year\\\\Projects\\\\SIH\\\\Codes\\\\nlp-text-emotion-master\\\\Final_Models\\\\tfidf_svm.sav'\n",
    "pickle.dump(svm_model, open(filename, 'wb'))"
   ]
  },
  {
   "cell_type": "code",
   "execution_count": 24,
   "metadata": {
    "ExecuteTime": {
     "end_time": "2023-09-18T23:55:04.869699200Z",
     "start_time": "2023-09-18T23:55:04.854078100Z"
    },
    "colab": {
     "base_uri": "https://localhost:8080/"
    },
    "executionInfo": {
     "elapsed": 1840,
     "status": "ok",
     "timestamp": 1622204509626,
     "user": {
      "displayName": "Nikhil Mandale",
      "photoUrl": "https://lh3.googleusercontent.com/-yq5OVhKRay4/AAAAAAAAAAI/AAAAAAAAGqk/hQsagpkMK04/s64/photo.jpg",
      "userId": "02574160308645723563"
     },
     "user_tz": -330
    },
    "id": "v8VXe2PYIkCA",
    "outputId": "dc4f552e-d246-400e-c54f-223f6ad58e07"
   },
   "outputs": [
    {
     "name": "stdout",
     "output_type": "stream",
     "text": [
      "<class 'str'>\n"
     ]
    },
    {
     "data": {
      "text/plain": [
       "array(['fear'], dtype=object)"
      ]
     },
     "execution_count": 24,
     "metadata": {},
     "output_type": "execute_result"
    }
   ],
   "source": [
    "model = pickle.load(open(filename, 'rb'))\n",
    "message = 'Glorified Trivialities: Karnataka HC Dismisses Criminal Cases of Cruelty Against Husband, Family'\n",
    "\n",
    "print(type(message))\n",
    "message = preprocess_and_tokenize(message)\n",
    "model.predict([message])"
   ]
  },
  {
   "cell_type": "code",
   "execution_count": null,
   "metadata": {
    "collapsed": false
   },
   "outputs": [],
   "source": []
  }
 ],
 "metadata": {
  "colab": {
   "name": "traditional_ml.ipynb",
   "provenance": []
  },
  "kernelspec": {
   "display_name": "Python 3",
   "language": "python",
   "name": "python3"
  },
  "language_info": {
   "codemirror_mode": {
    "name": "ipython",
    "version": 3
   },
   "file_extension": ".py",
   "mimetype": "text/x-python",
   "name": "python",
   "nbconvert_exporter": "python",
   "pygments_lexer": "ipython3",
   "version": "3.11.5"
  }
 },
 "nbformat": 4,
 "nbformat_minor": 0
}
